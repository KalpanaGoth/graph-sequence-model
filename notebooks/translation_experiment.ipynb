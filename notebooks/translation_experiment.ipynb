{
 "cells": [
  {
   "cell_type": "code",
   "execution_count": 10,
   "metadata": {},
   "outputs": [],
   "source": [
    "# Step 1 Import necessary libraries\n",
    "import os\n",
    "import networkx as nx\n",
    "import pickle\n",
    "from node2vec import Node2Vec\n",
    "import matplotlib.pyplot as plt\n",
    "\n",
    "# Load the graph and embeddings\n",
    "os.makedirs('output', exist_ok=True)\n",
    "graph_path = '../output/book_translation_graph.gpickle'\n",
    "with open(graph_path, 'rb') as f:\n",
    "    G = pickle.load(f)\n"
   ]
  },
  {
   "cell_type": "code",
   "execution_count": 12,
   "metadata": {},
   "outputs": [],
   "source": [
    "# Step 2 Load or input new phrases to test\n",
    "test_phrases = [\"Go.\", \"Run!\", \"Stop.\", \"Hello!\"]\n",
    "\n",
    "def preprocess_phrase(phrase):\n",
    "    # Basic preprocessing steps (e.g., lowercasing, stripping whitespace)\n",
    "    return phrase.strip()\n"
   ]
  },
  {
   "cell_type": "code",
   "execution_count": 13,
   "metadata": {},
   "outputs": [],
   "source": [
    "# Step 3: Translation Function\n",
    "\n",
    "def graph_based_translation(G, source_node, top_k=1):\n",
    "    # Initialize node scores with 0, set source node to 1\n",
    "    scores = {node: 0.0 for node in G.nodes}\n",
    "    scores[source_node] = 1.0\n",
    "    \n",
    "    # Propagation loop\n",
    "    for _ in range(3):\n",
    "        new_scores = scores.copy()\n",
    "        for node in G.nodes:\n",
    "            for neighbor in G.neighbors(node):\n",
    "                new_scores[neighbor] += scores[node] * G[node][neighbor].get('weight', 1.0)\n",
    "        scores = new_scores\n",
    "\n",
    "    # Extract and rank Spanish nodes\n",
    "    spa_nodes = [n for n in G.nodes if G.nodes[n].get('lang') == 'SPA']\n",
    "    ranked_spa_nodes = sorted(spa_nodes, key=lambda n: scores[n], reverse=True)\n",
    "    \n",
    "    # Return top-k translations\n",
    "    return ranked_spa_nodes[:top_k]\n"
   ]
  },
  {
   "cell_type": "code",
   "execution_count": 14,
   "metadata": {},
   "outputs": [
    {
     "name": "stdout",
     "output_type": "stream",
     "text": [
      "Translations for 'Go.': ['Ve.', 'Vete.', 'Vaya.']\n",
      "Translations for 'Run!': ['¡Corre!', '¡Corran!', '¡Corra!']\n",
      "'Stop.' not found in graph.\n",
      "Translations for 'Hello!': ['Hola.', 'Ve.', 'Vete.']\n"
     ]
    }
   ],
   "source": [
    "# Step 4 Evaluate translations\n",
    "for phrase in test_phrases:\n",
    "    if phrase in G.nodes:\n",
    "        translations = graph_based_translation(G, phrase, top_k=3)\n",
    "        print(f\"Translations for '{phrase}': {translations}\")\n",
    "    else:\n",
    "        print(f\"'{phrase}' not found in graph.\")\n"
   ]
  },
  {
   "cell_type": "code",
   "execution_count": 15,
   "metadata": {},
   "outputs": [],
   "source": [
    "# Visualize embeddings or graph structure\n",
    "nx.draw(G, with_labels=True)\n",
    "plt.show()"
   ]
  },
  {
   "cell_type": "code",
   "execution_count": null,
   "metadata": {},
   "outputs": [],
   "source": [
    "# Placeholder: We can compare with traditional translation models\n",
    "# TODO Need to implement a comparison function with a traditional model.\n"
   ]
  }
 ],
 "metadata": {
  "kernelspec": {
   "display_name": "venv",
   "language": "python",
   "name": "python3"
  },
  "language_info": {
   "codemirror_mode": {
    "name": "ipython",
    "version": 3
   },
   "file_extension": ".py",
   "mimetype": "text/x-python",
   "name": "python",
   "nbconvert_exporter": "python",
   "pygments_lexer": "ipython3",
   "version": "3.12.4"
  },
  "orig_nbformat": 4,
  "vscode": {
   "interpreter": {
    "hash": "b44c6992f118d5e999c51e0d3018b74341dcb02028e98608bfe7440706496dbf"
   }
  }
 },
 "nbformat": 4,
 "nbformat_minor": 2
}
